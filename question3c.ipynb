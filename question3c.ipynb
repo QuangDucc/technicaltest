{
 "cells": [
  {
   "cell_type": "code",
   "execution_count": 1,
   "metadata": {},
   "outputs": [],
   "source": [
    "import numpy as np\n",
    "import cv2"
   ]
  },
  {
   "cell_type": "markdown",
   "metadata": {},
   "source": [
    "1. Function to calculate IoU"
   ]
  },
  {
   "cell_type": "code",
   "execution_count": 3,
   "metadata": {},
   "outputs": [],
   "source": [
    "def calculate_iou(bbox1, bbox2): \n",
    "    # box shape (x1,y1,x2,y2) (x1,y1) is top left corner, (x2,y2) is bottom right corner\n",
    "    \n",
    "    # Calculate the intersection area\n",
    "    intersection_width = min(bbox1[2], bbox2[2]) - max(bbox1[0], bbox2[0])\n",
    "    intersection_height = min(bbox1[3], bbox2[3]) - max(bbox1[1], bbox2[1])\n",
    "    intersection_area = max(0, intersection_width) * max(0, intersection_height)\n",
    "\n",
    "    # Calculate the union area\n",
    "    bbox1_area = (bbox1[2] - bbox1[0]) * (bbox1[3] - bbox1[1])\n",
    "    bbox2_area = (bbox2[2] - bbox2[0]) * (bbox2[3] - bbox2[1])\n",
    "    union_area = bbox1_area + bbox2_area - intersection_area\n",
    "\n",
    "    # Calculate the IoU\n",
    "    iou = intersection_area / union_area\n",
    "\n",
    "    return iou"
   ]
  },
  {
   "cell_type": "markdown",
   "metadata": {},
   "source": [
    "2. Function to eliminate the parent class of object"
   ]
  },
  {
   "cell_type": "code",
   "execution_count": 4,
   "metadata": {},
   "outputs": [],
   "source": [
    "def eliminate_parent_class(classes, class_hierarchy):\n",
    "    children = []\n",
    "    parents = []\n",
    "    for child, parent in class_hierarchy.items():\n",
    "        children.append(child)\n",
    "        parents.append(parent)\n",
    "\n",
    "    children = [child for child in children if child not in parents]\n",
    "    ind_classes = [i for i in range(len(classes)) if classes[i] in children]\n",
    "\n",
    "    return ind_classes"
   ]
  },
  {
   "cell_type": "markdown",
   "metadata": {},
   "source": [
    "3. Non maximum suppression algorithm"
   ]
  },
  {
   "cell_type": "code",
   "execution_count": 5,
   "metadata": {},
   "outputs": [],
   "source": [
    "def nms(bboxes, scores, classes, class_hierarchy, score_threshold, iou_threshold):\n",
    "\n",
    "    #eliminate the parent class of object\n",
    "    index = eliminate_parent_class(classes, class_hierarchy)\n",
    "\n",
    "    bboxes = bboxes[index]\n",
    "    scores = scores[index]\n",
    "    classes = classes[index]\n",
    "\n",
    "    # Sort the boxes based on scores in descending order\n",
    "    scores = scores[scores > score_threshold]\n",
    "    sorted_indices = sorted(range(len(scores)), key=lambda i: scores[i], reverse=True)\n",
    "\n",
    "    sorted_scores = [scores[i] for i in sorted_indices]\n",
    "    sorted_boxes = [bboxes[i] for i in sorted_indices]\n",
    "    sorted_classes = [classes[i] for i in sorted_indices]\n",
    "    \n",
    "    # Initialize an empty list to store the selected boxes\n",
    "    selected_boxes = []\n",
    "    selected_scores = []\n",
    "    selected_classes = []\n",
    "    \n",
    "    while sorted_boxes:\n",
    "        # Select the box with the highest score as the reference box\n",
    "        reference_box = sorted_boxes[0]\n",
    "        reference_class = sorted_classes[0]\n",
    "        reference_score = sorted_scores[0]\n",
    "\n",
    "        selected_boxes.append(reference_box)\n",
    "        selected_scores.append(reference_score)\n",
    "        selected_classes.append(reference_class)\n",
    "        \n",
    "        # Calculate the IoU between the reference box and other boxes\n",
    "        ious = [calculate_iou(reference_box, box) for box in sorted_boxes[1:]]\n",
    "    \n",
    "        # Remove boxes with IoU greater than the threshold\n",
    "        sorted_boxes = [box for i, box in enumerate(sorted_boxes[1:]) if ious[i] < iou_threshold]\n",
    "        sorted_classes = [cls for i, cls in enumerate(sorted_classes[1:]) if ious[i] < iou_threshold]\n",
    "        sorted_scores = [sc for i, sc in enumerate(sorted_scores[1:]) if ious[i] < iou_threshold]\n",
    "\n",
    "\n",
    "    return selected_boxes, selected_scores, selected_classes"
   ]
  },
  {
   "cell_type": "markdown",
   "metadata": {},
   "source": [
    "4. Examle"
   ]
  },
  {
   "cell_type": "code",
   "execution_count": 6,
   "metadata": {},
   "outputs": [],
   "source": [
    "bboxes = np.array([[100, 200, 500, 600],[110, 210, 510, 610],[105, 230, 520, 590],\n",
    "                   [120, 180, 550, 650], [290, 100, 600, 650], \n",
    "                   [300, 120, 610, 560],[310, 110, 600, 580],[305, 130, 620, 570]])\n",
    "scores = np.array([0.9, 0.89, 0.8, 0.85, 0.87, 0.86, 0.8, 0.88])\n",
    "classes = np.array(['Apple','Apple','Apple', 'Fruit', 'Fruit', \"Apple\",'Apple','Apple'])\n",
    "class_hierarchy = {\n",
    "    'Apple': 'Fruit'\n",
    "}\n",
    "score_threshold = 0.6\n",
    "iou_threshold = 0.6"
   ]
  },
  {
   "cell_type": "code",
   "execution_count": 8,
   "metadata": {},
   "outputs": [
    {
     "name": "stdout",
     "output_type": "stream",
     "text": [
      "selected_boxes: [array([100, 200, 500, 600]), array([305, 130, 620, 570])]\n",
      "selected_scores: [0.9, 0.88]\n",
      "selected_classes: ['Apple', 'Apple']\n"
     ]
    }
   ],
   "source": [
    "result = nms(bboxes, scores, classes, class_hierarchy, score_threshold, iou_threshold)\n",
    "print(\"selected_boxes:\",result[0])\n",
    "print(\"selected_scores:\",result[1])\n",
    "print(\"selected_classes:\",result[2])"
   ]
  },
  {
   "cell_type": "code",
   "execution_count": 9,
   "metadata": {},
   "outputs": [
    {
     "data": {
      "text/plain": [
       "-1"
      ]
     },
     "execution_count": 9,
     "metadata": {},
     "output_type": "execute_result"
    }
   ],
   "source": [
    "image = np.zeros((1000, 1000, 3), dtype=np.uint8)\n",
    "\n",
    "# Define the rectangles parameters\n",
    "rectangles = [\n",
    "    {'x1': 100, 'y1': 200, 'x2': 500, 'y2': 600, 'color': (0, 0, 200), 'label': 'Apple'},\n",
    "    {'x1': 110, 'y1': 210, 'x2': 510, 'y2': 610, 'color': (0, 0, 200), 'label': 'Apple'},\n",
    "    {'x1': 105, 'y1': 230, 'x2': 520, 'y2': 590, 'color': (0, 0, 200), 'label': 'Apple'},\n",
    "    {'x1': 120, 'y1': 180, 'x2': 510, 'y2': 610, 'color': (255, 255, 255), 'label': 'Fruit'},  \n",
    "    {'x1': 290, 'y1': 100, 'x2': 600, 'y2': 550, 'color': (255, 255, 255), 'label': 'Fruit'},   \n",
    "    {'x1': 300, 'y1': 120, 'x2': 610, 'y2': 560, 'color': (0, 0, 200), 'label': 'Apple'},\n",
    "    {'x1': 310, 'y1': 110, 'x2': 600, 'y2': 580, 'color': (0, 0, 200), 'label': 'Apple'},\n",
    "    {'x1': 305, 'y1': 130, 'x2': 620, 'y2': 570, 'color': (0, 0, 200), 'label': 'Apple'} \n",
    "\n",
    "]\n",
    "\n",
    "# Draw the rectangles on the image\n",
    "for rectangle in rectangles:\n",
    "    x1, y1 = rectangle['x1'], rectangle['y1']\n",
    "    x2, y2 = rectangle['x2'], rectangle['y2']\n",
    "    color = rectangle['color']\n",
    "    thickness = 2\n",
    "    cv2.rectangle(image, (x1, y1), (x2, y2), color, thickness)\n",
    "    \n",
    "    # Add annotation\n",
    "    label = rectangle['label']\n",
    "    cv2.putText(image, label, (x1, y1 - 10), cv2.FONT_HERSHEY_SIMPLEX, 0.5, color, 1)\n",
    "\n",
    "# Display the image\n",
    "cv2.imshow(\"Rectangles\", image)\n",
    "cv2.waitKey(0)"
   ]
  },
  {
   "cell_type": "code",
   "execution_count": 10,
   "metadata": {},
   "outputs": [
    {
     "data": {
      "text/plain": [
       "-1"
      ]
     },
     "execution_count": 10,
     "metadata": {},
     "output_type": "execute_result"
    }
   ],
   "source": [
    "image = np.zeros((1000, 1000, 3), dtype=np.uint8)\n",
    "\n",
    "# Define the rectangles parameters\n",
    "rectangles = [\n",
    "    {'x1': 100, 'y1': 200, 'x2': 500, 'y2': 600, 'color': (0, 0, 200), 'label': 'Apple'},\n",
    "    # {'x1': 110, 'y1': 210, 'x2': 510, 'y2': 610, 'color': (0, 0, 200), 'label': 'Apple'},\n",
    "    # {'x1': 105, 'y1': 230, 'x2': 520, 'y2': 590, 'color': (0, 0, 200), 'label': 'Apple'},\n",
    "    # {'x1': 120, 'y1': 180, 'x2': 510, 'y2': 610, 'color': (255, 255, 255), 'label': 'Fruit'},  \n",
    "    # {'x1': 290, 'y1': 100, 'x2': 600, 'y2': 550, 'color': (255, 255, 255), 'label': 'Fruit'},   \n",
    "    # {'x1': 300, 'y1': 120, 'x2': 610, 'y2': 560, 'color': (0, 0, 200), 'label': 'Apple'},\n",
    "    # {'x1': 310, 'y1': 110, 'x2': 600, 'y2': 580, 'color': (0, 0, 200), 'label': 'Apple'},\n",
    "    {'x1': 305, 'y1': 130, 'x2': 620, 'y2': 570, 'color': (0, 0, 200), 'label': 'Apple'} \n",
    "\n",
    "]\n",
    "\n",
    "# Draw the rectangles on the image\n",
    "for rectangle in rectangles:\n",
    "    x1, y1 = rectangle['x1'], rectangle['y1']\n",
    "    x2, y2 = rectangle['x2'], rectangle['y2']\n",
    "    color = rectangle['color']\n",
    "    thickness = 2\n",
    "    cv2.rectangle(image, (x1, y1), (x2, y2), color, thickness)\n",
    "    \n",
    "    # Add annotation\n",
    "    label = rectangle['label']\n",
    "    cv2.putText(image, label, (x1, y1 - 10), cv2.FONT_HERSHEY_SIMPLEX, 0.5, color, 1)\n",
    "\n",
    "# Display the image\n",
    "cv2.imshow(\"Rectangles\", image)\n",
    "cv2.waitKey(0)"
   ]
  }
 ],
 "metadata": {
  "kernelspec": {
   "display_name": ".venv",
   "language": "python",
   "name": "python3"
  },
  "language_info": {
   "codemirror_mode": {
    "name": "ipython",
    "version": 3
   },
   "file_extension": ".py",
   "mimetype": "text/x-python",
   "name": "python",
   "nbconvert_exporter": "python",
   "pygments_lexer": "ipython3",
   "version": "3.10.10"
  },
  "orig_nbformat": 4
 },
 "nbformat": 4,
 "nbformat_minor": 2
}
