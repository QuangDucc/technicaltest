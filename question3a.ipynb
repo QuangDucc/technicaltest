{
 "cells": [
  {
   "cell_type": "markdown",
   "metadata": {},
   "source": [
    "1. Parse hierarchy file"
   ]
  },
  {
   "cell_type": "code",
   "execution_count": 1,
   "metadata": {},
   "outputs": [],
   "source": [
    "#parse hierarchy_file\n",
    "def parse_hierarchy_file(file_path):\n",
    "    hierarchy = {}\n",
    "    with open(file_path, 'r') as file:\n",
    "        for line in file:\n",
    "            parent, child = line.strip().split(' ')\n",
    "            if parent not in hierarchy:\n",
    "                hierarchy[parent] = set()\n",
    "            hierarchy[parent].add(child)\n",
    "    return hierarchy"
   ]
  },
  {
   "cell_type": "markdown",
   "metadata": {},
   "source": [
    "2. Parse id to name file"
   ]
  },
  {
   "cell_type": "code",
   "execution_count": 2,
   "metadata": {},
   "outputs": [],
   "source": [
    "#parse id to name file\n",
    "def parse_id_to_name_file(file_path):\n",
    "    id_to_name = {}\n",
    "    with open(file_path, 'r') as file:\n",
    "        for line in file:\n",
    "            category_id, category_name = line.strip().split('\t')\n",
    "            id_to_name[category_id] = category_name\n",
    "    return id_to_name"
   ]
  },
  {
   "cell_type": "markdown",
   "metadata": {},
   "source": [
    "3. Build a class to get Hierarchy"
   ]
  },
  {
   "cell_type": "code",
   "execution_count": 3,
   "metadata": {},
   "outputs": [],
   "source": [
    "# class to get Hierarchy\n",
    "class Hierarchy:\n",
    "    def __init__(self, hierarchy, id_to_name):\n",
    "        self.hierarchy = hierarchy\n",
    "        self.id_to_name = id_to_name\n",
    "\n",
    "    #get class name/\n",
    "    def get_class_name(self, class_id):\n",
    "        return self.id_to_name.get(class_id, None)\n",
    "    \n",
    "    #get sibling\n",
    "    def get_siblings(self, class_name):\n",
    "        parent = self.get_parent(class_name)\n",
    "        if parent:\n",
    "            return self.hierarchy[parent]\n",
    "        return set()\n",
    "\n",
    "    #get parent\n",
    "    def get_parent(self, class_name):\n",
    "        for parent, children in self.hierarchy.items():\n",
    "            if class_name in children:\n",
    "                return parent\n",
    "        return None\n",
    "\n",
    "    #get ancestor\n",
    "    def get_ancestors(self, class_name):\n",
    "        ancestors = set()\n",
    "        parent = self.get_parent(class_name)\n",
    "        while parent:\n",
    "            ancestors.add(parent)\n",
    "            parent = self.get_parent(parent)\n",
    "        return ancestors\n",
    "\n",
    "    #check if 2 two have the same ancestor\n",
    "    def same_ancestor(self, class1, class2):\n",
    "        ancestors1 = self.get_ancestors(class1)\n",
    "        ancestors2 = self.get_ancestors(class2)\n",
    "        return (bool(ancestors1.intersection(ancestors2)),ancestors1.intersection(ancestors2))"
   ]
  },
  {
   "cell_type": "markdown",
   "metadata": {},
   "source": [
    "4. Example"
   ]
  },
  {
   "cell_type": "code",
   "execution_count": 4,
   "metadata": {},
   "outputs": [
    {
     "name": "stdout",
     "output_type": "stream",
     "text": [
      "Type of hierarchy: <class 'dict'>\n",
      "Number of parents classes: 16693\n"
     ]
    }
   ],
   "source": [
    "#parse hierarchy file\n",
    "hierarchy = parse_hierarchy_file('hierarchy.txt')\n",
    "print(\"Type of hierarchy:\", type(hierarchy))\n",
    "print(\"Number of parents classes:\", len(hierarchy.keys()))"
   ]
  },
  {
   "cell_type": "code",
   "execution_count": 5,
   "metadata": {},
   "outputs": [
    {
     "name": "stdout",
     "output_type": "stream",
     "text": [
      "Type of id to name: <class 'dict'>\n",
      "Number if id: 82115\n",
      "Name of id n00001740 is: entity\n"
     ]
    }
   ],
   "source": [
    "#parse id to name file\n",
    "id_to_name = parse_id_to_name_file('id_to_name.txt')\n",
    "print(\"Type of id to name:\", type(id_to_name))\n",
    "print(\"Number if id:\", len(id_to_name.keys()))\n",
    "print(\"Name of id\", list(id_to_name.keys())[0], \"is:\", list(id_to_name.values())[0])"
   ]
  },
  {
   "cell_type": "code",
   "execution_count": 6,
   "metadata": {},
   "outputs": [],
   "source": [
    "# class to get Hierarchy\n",
    "hierarchy_obj = Hierarchy(hierarchy, id_to_name)"
   ]
  },
  {
   "cell_type": "code",
   "execution_count": 7,
   "metadata": {},
   "outputs": [
    {
     "name": "stdout",
     "output_type": "stream",
     "text": [
      "Name of class n02100399 is: setter\n"
     ]
    }
   ],
   "source": [
    "#get class name of an id\n",
    "print(\"Name of class n02100399 is:\", hierarchy_obj.get_class_name(\"n02100399\"))"
   ]
  },
  {
   "cell_type": "code",
   "execution_count": 8,
   "metadata": {},
   "outputs": [
    {
     "name": "stdout",
     "output_type": "stream",
     "text": [
      "Parent of class n02100399 is: n02098550\n"
     ]
    }
   ],
   "source": [
    "#get parents class of an id\n",
    "print(\"Parent of class n02100399 is:\", hierarchy_obj.get_parent(\"n02100399\"))"
   ]
  },
  {
   "cell_type": "code",
   "execution_count": 9,
   "metadata": {},
   "outputs": [
    {
     "name": "stdout",
     "output_type": "stream",
     "text": [
      "Siblings of n02100399 is: {'n02103181', 'n02101108', 'n02100399', 'n02099997', 'n02098806', 'n02099029', 'n02098906'}\n"
     ]
    }
   ],
   "source": [
    "#get siblings of an id\n",
    "print(\"Siblings of n02100399 is:\", hierarchy_obj.get_siblings(\"n02100399\"))"
   ]
  },
  {
   "cell_type": "code",
   "execution_count": 11,
   "metadata": {},
   "outputs": [
    {
     "name": "stdout",
     "output_type": "stream",
     "text": [
      "Two class have the same ancestor: True\n",
      "They are: {'n01466257', 'n01861778', 'n00001930', 'n00003553', 'n01886756', 'n00004258', 'n00004475', 'n00015388', 'n00002684', 'n00001740', 'n01471682'}\n"
     ]
    }
   ],
   "source": [
    "#check if 2 two class have the same ancestor\n",
    "print(\"Two class have the same ancestor:\", hierarchy_obj.same_ancestor(\"n02100399\",\"n02471300\")[0])\n",
    "print(\"They are:\", hierarchy_obj.same_ancestor(\"n02100399\",\"n02471300\")[1])"
   ]
  }
 ],
 "metadata": {
  "kernelspec": {
   "display_name": ".venv",
   "language": "python",
   "name": "python3"
  },
  "language_info": {
   "codemirror_mode": {
    "name": "ipython",
    "version": 3
   },
   "file_extension": ".py",
   "mimetype": "text/x-python",
   "name": "python",
   "nbconvert_exporter": "python",
   "pygments_lexer": "ipython3",
   "version": "3.10.10"
  },
  "orig_nbformat": 4
 },
 "nbformat": 4,
 "nbformat_minor": 2
}
